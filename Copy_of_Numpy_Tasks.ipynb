{
  "nbformat": 4,
  "nbformat_minor": 0,
  "metadata": {
    "colab": {
      "provenance": [],
      "authorship_tag": "ABX9TyMHe/f2QP02gjyT6amtHJ1q",
      "include_colab_link": true
    },
    "kernelspec": {
      "name": "python3",
      "display_name": "Python 3"
    },
    "language_info": {
      "name": "python"
    }
  },
  "cells": [
    {
      "cell_type": "markdown",
      "metadata": {
        "id": "view-in-github",
        "colab_type": "text"
      },
      "source": [
        "<a href=\"https://colab.research.google.com/github/eh1322005/Numpy-projects/blob/main/Copy_of_Numpy_Tasks.ipynb\" target=\"_parent\"><img src=\"https://colab.research.google.com/assets/colab-badge.svg\" alt=\"Open In Colab\"/></a>"
      ]
    },
    {
      "cell_type": "code",
      "execution_count": null,
      "metadata": {
        "colab": {
          "base_uri": "https://localhost:8080/"
        },
        "id": "w1nFZ6eyt3M3",
        "outputId": "9b3f247a-19ec-42a7-fed1-20ef932b7453"
      },
      "outputs": [
        {
          "output_type": "stream",
          "name": "stdout",
          "text": [
            "2.0.2\n",
            " info(object=None, maxwidth=76, output=None, toplevel='numpy')\n",
            "\n",
            "Get help information for an array, function, class, or module.\n",
            "\n",
            "Parameters\n",
            "----------\n",
            "object : object or str, optional\n",
            "    Input object or name to get information about. If `object` is\n",
            "    an `ndarray` instance, information about the array is printed.\n",
            "    If `object` is a numpy object, its docstring is given. If it is\n",
            "    a string, available modules are searched for matching objects.\n",
            "    If None, information about `info` itself is returned.\n",
            "maxwidth : int, optional\n",
            "    Printing width.\n",
            "output : file like object, optional\n",
            "    File like object that the output is written to, default is\n",
            "    ``None``, in which case ``sys.stdout`` will be used.\n",
            "    The object has to be opened in 'w' or 'a' mode.\n",
            "toplevel : str, optional\n",
            "    Start search at this level.\n",
            "\n",
            "Notes\n",
            "-----\n",
            "When used interactively with an object, ``np.info(obj)`` is equivalent\n",
            "to ``help(obj)`` on the Python prompt or ``obj?`` on the IPython\n",
            "prompt.\n",
            "\n",
            "Examples\n",
            "--------\n",
            ">>> np.info(np.polyval) # doctest: +SKIP\n",
            "   polyval(p, x)\n",
            "     Evaluate the polynomial p at x.\n",
            "     ...\n",
            "\n",
            "When using a string for `object` it is possible to get multiple results.\n",
            "\n",
            ">>> np.info('fft') # doctest: +SKIP\n",
            "     *** Found in numpy ***\n",
            "Core FFT routines\n",
            "...\n",
            "     *** Found in numpy.fft ***\n",
            " fft(a, n=None, axis=-1)\n",
            "...\n",
            "     *** Repeat reference found in numpy.fft.fftpack ***\n",
            "     *** Total of 3 references found. ***\n",
            "\n",
            "When the argument is an array, information about the array is printed.\n",
            "\n",
            ">>> a = np.array([[1 + 2j, 3, -4], [-5j, 6, 0]], dtype=np.complex64)\n",
            ">>> np.info(a)\n",
            "class:  ndarray\n",
            "shape:  (2, 3)\n",
            "strides:  (24, 8)\n",
            "itemsize:  8\n",
            "aligned:  True\n",
            "contiguous:  True\n",
            "fortran:  False\n",
            "data pointer: 0x562b6e0d2860  # may vary\n",
            "byteorder:  little\n",
            "byteswap:  False\n",
            "type: complex64\n",
            "None\n"
          ]
        }
      ],
      "source": [
        "# 1:Get NumPy Version & Build Info\n",
        "from numpy import *\n",
        "print(np.__version__)\n",
        "print(np.info())\n"
      ]
    },
    {
      "cell_type": "code",
      "source": [
        "#2:add func\n",
        "print(np.info(np.add))"
      ],
      "metadata": {
        "colab": {
          "base_uri": "https://localhost:8080/"
        },
        "id": "HabG0yiKv-w-",
        "outputId": "ff0ba93e-7620-4e0a-bf84-8724389a5186"
      },
      "execution_count": null,
      "outputs": [
        {
          "output_type": "stream",
          "name": "stdout",
          "text": [
            "add(x1, x2, /, out=None, *, where=True, casting='same_kind', order='K', dtype=None, subok=True[, signature])\n",
            "\n",
            "Add arguments element-wise.\n",
            "\n",
            "Parameters\n",
            "----------\n",
            "x1, x2 : array_like\n",
            "    The arrays to be added.\n",
            "    If ``x1.shape != x2.shape``, they must be broadcastable to a common\n",
            "    shape (which becomes the shape of the output).\n",
            "out : ndarray, None, or tuple of ndarray and None, optional\n",
            "    A location into which the result is stored. If provided, it must have\n",
            "    a shape that the inputs broadcast to. If not provided or None,\n",
            "    a freshly-allocated array is returned. A tuple (possible only as a\n",
            "    keyword argument) must have length equal to the number of outputs.\n",
            "where : array_like, optional\n",
            "    This condition is broadcast over the input. At locations where the\n",
            "    condition is True, the `out` array will be set to the ufunc result.\n",
            "    Elsewhere, the `out` array will retain its original value.\n",
            "    Note that if an uninitialized `out` array is created via the default\n",
            "    ``out=None``, locations within it where the condition is False will\n",
            "    remain uninitialized.\n",
            "**kwargs\n",
            "    For other keyword-only arguments, see the\n",
            "    :ref:`ufunc docs <ufuncs.kwargs>`.\n",
            "\n",
            "Returns\n",
            "-------\n",
            "add : ndarray or scalar\n",
            "    The sum of `x1` and `x2`, element-wise.\n",
            "    This is a scalar if both `x1` and `x2` are scalars.\n",
            "\n",
            "Notes\n",
            "-----\n",
            "Equivalent to `x1` + `x2` in terms of array broadcasting.\n",
            "\n",
            "Examples\n",
            "--------\n",
            ">>> np.add(1.0, 4.0)\n",
            "5.0\n",
            ">>> x1 = np.arange(9.0).reshape((3, 3))\n",
            ">>> x2 = np.arange(3.0)\n",
            ">>> np.add(x1, x2)\n",
            "array([[  0.,   2.,   4.],\n",
            "       [  3.,   5.,   7.],\n",
            "       [  6.,   8.,  10.]])\n",
            "\n",
            "The ``+`` operator can be used as a shorthand for ``np.add`` on ndarrays.\n",
            "\n",
            ">>> x1 = np.arange(9.0).reshape((3, 3))\n",
            ">>> x2 = np.arange(3.0)\n",
            ">>> x1 + x2\n",
            "array([[ 0.,  2.,  4.],\n",
            "       [ 3.,  5.,  7.],\n",
            "       [ 6.,  8., 10.]])\n",
            "None\n"
          ]
        }
      ]
    },
    {
      "cell_type": "code",
      "source": [
        "#3: Test None are Zero\n",
        "my_arr = np.array([1,6,9])\n",
        "print(np.zeros in(my_arr))\n"
      ],
      "metadata": {
        "colab": {
          "base_uri": "https://localhost:8080/"
        },
        "id": "_CJiazh1x8h-",
        "outputId": "9635657a-d365-40a1-a912-a665373afd41"
      },
      "execution_count": null,
      "outputs": [
        {
          "output_type": "stream",
          "name": "stdout",
          "text": [
            "False\n"
          ]
        }
      ]
    },
    {
      "cell_type": "code",
      "source": [
        "#3: Test None are Zero\n",
        "my_arr = np.array([1,6,9])\n",
        "print(np.all(my_arr))              # all func: item equel zero ......> false\n"
      ],
      "metadata": {
        "colab": {
          "base_uri": "https://localhost:8080/"
        },
        "id": "GWaYXXw20tGs",
        "outputId": "175d4d6d-6284-43a1-d5aa-2bf7cab27d7e"
      },
      "execution_count": null,
      "outputs": [
        {
          "output_type": "stream",
          "name": "stdout",
          "text": [
            "True\n"
          ]
        }
      ]
    },
    {
      "cell_type": "code",
      "source": [
        "#4:Test Any Non-Zero\n",
        "my_arr = np.array([0,0,0])\n",
        "print(np.any(my_arr))             # any func: item exept zero ......> true"
      ],
      "metadata": {
        "colab": {
          "base_uri": "https://localhost:8080/"
        },
        "id": "-97lXuq46bG4",
        "outputId": "890f3ef8-5e3d-4262-bc97-9431f148547e"
      },
      "execution_count": null,
      "outputs": [
        {
          "output_type": "stream",
          "name": "stdout",
          "text": [
            "False\n"
          ]
        }
      ]
    },
    {
      "cell_type": "code",
      "source": [
        "# 5:Test Finiteness of Elements\n",
        "arr=np.array([1,2,5])\n",
        "print(np.isfinite(arr))"
      ],
      "metadata": {
        "colab": {
          "base_uri": "https://localhost:8080/"
        },
        "id": "2PDUiyuAylBt",
        "outputId": "774d3a4e-fe39-499d-8e5f-eb8d9ab08969"
      },
      "execution_count": null,
      "outputs": [
        {
          "output_type": "stream",
          "name": "stdout",
          "text": [
            "[ True  True  True]\n"
          ]
        }
      ]
    },
    {
      "cell_type": "code",
      "source": [
        "#6:Test for Infinity\n",
        "arr=np.array([2,np.inf,-np.inf,5])    #np.isposinf : check if + inf\n",
        "print(np.isneginf(arr))\n",
        "print(np.isposinf(arr))               # inf : np.inf    and    non inf :-np.inf"
      ],
      "metadata": {
        "colab": {
          "base_uri": "https://localhost:8080/"
        },
        "id": "ClgG8yu89yDy",
        "outputId": "66c4e0c0-6dcc-4896-b72b-e8ee6f67eb97"
      },
      "execution_count": null,
      "outputs": [
        {
          "output_type": "stream",
          "name": "stdout",
          "text": [
            "[False False  True False]\n",
            "[False  True False False]\n"
          ]
        }
      ]
    },
    {
      "cell_type": "code",
      "source": [
        "#7:Test for NaN\n",
        "arr=np.array([2,np.inf,-np.inf,np.nan,np.nan,5])   #nan : not a number\n",
        "print(np.isnan(arr))"
      ],
      "metadata": {
        "colab": {
          "base_uri": "https://localhost:8080/"
        },
        "id": "0KecmMyj_lSe",
        "outputId": "19165c47-57af-4cfe-d1bb-34dfcbcbaa3b"
      },
      "execution_count": null,
      "outputs": [
        {
          "output_type": "stream",
          "name": "stdout",
          "text": [
            "[False False False  True  True False]\n"
          ]
        }
      ]
    },
    {
      "cell_type": "code",
      "source": [
        "#8: Test for Complex/Real/Scalar\n",
        "# important\n",
        "import numpy as np\n",
        "a = np.array([1+1j, 1+0j, 4.5, 3, 2, 2j])\n",
        "print(np.iscomplex(a))\n",
        "print(np.isreal(a))\n",
        "print(np.isscalar(3.1))\n",
        "print(np.isscaler([3.1]))"
      ],
      "metadata": {
        "colab": {
          "base_uri": "https://localhost:8080/",
          "height": 364
        },
        "id": "hmJvjfIUGE8N",
        "outputId": "8ad6d46f-c036-45ba-cde7-c65f7241ad55"
      },
      "execution_count": null,
      "outputs": [
        {
          "output_type": "stream",
          "name": "stdout",
          "text": [
            "[ True False False False False  True]\n",
            "[False  True  True  True  True False]\n",
            "True\n"
          ]
        },
        {
          "output_type": "error",
          "ename": "AttributeError",
          "evalue": "module 'numpy' has no attribute 'isscaler'",
          "traceback": [
            "\u001b[0;31m---------------------------------------------------------------------------\u001b[0m",
            "\u001b[0;31mAttributeError\u001b[0m                            Traceback (most recent call last)",
            "\u001b[0;32m/tmp/ipython-input-27-1440315773.py\u001b[0m in \u001b[0;36m<cell line: 0>\u001b[0;34m()\u001b[0m\n\u001b[1;32m      5\u001b[0m \u001b[0mprint\u001b[0m\u001b[0;34m(\u001b[0m\u001b[0mnp\u001b[0m\u001b[0;34m.\u001b[0m\u001b[0misreal\u001b[0m\u001b[0;34m(\u001b[0m\u001b[0ma\u001b[0m\u001b[0;34m)\u001b[0m\u001b[0;34m)\u001b[0m\u001b[0;34m\u001b[0m\u001b[0;34m\u001b[0m\u001b[0m\n\u001b[1;32m      6\u001b[0m \u001b[0mprint\u001b[0m\u001b[0;34m(\u001b[0m\u001b[0mnp\u001b[0m\u001b[0;34m.\u001b[0m\u001b[0misscalar\u001b[0m\u001b[0;34m(\u001b[0m\u001b[0;36m3.1\u001b[0m\u001b[0;34m)\u001b[0m\u001b[0;34m)\u001b[0m\u001b[0;34m\u001b[0m\u001b[0;34m\u001b[0m\u001b[0m\n\u001b[0;32m----> 7\u001b[0;31m \u001b[0mprint\u001b[0m\u001b[0;34m(\u001b[0m\u001b[0mnp\u001b[0m\u001b[0;34m.\u001b[0m\u001b[0misscaler\u001b[0m\u001b[0;34m(\u001b[0m\u001b[0;34m[\u001b[0m\u001b[0;36m3.1\u001b[0m\u001b[0;34m]\u001b[0m\u001b[0;34m)\u001b[0m\u001b[0;34m)\u001b[0m\u001b[0;34m\u001b[0m\u001b[0;34m\u001b[0m\u001b[0m\n\u001b[0m",
            "\u001b[0;32m/usr/local/lib/python3.11/dist-packages/numpy/__init__.py\u001b[0m in \u001b[0;36m__getattr__\u001b[0;34m(attr)\u001b[0m\n\u001b[1;32m    408\u001b[0m             \u001b[0;32mreturn\u001b[0m \u001b[0mchar\u001b[0m\u001b[0;34m.\u001b[0m\u001b[0mchararray\u001b[0m\u001b[0;34m\u001b[0m\u001b[0;34m\u001b[0m\u001b[0m\n\u001b[1;32m    409\u001b[0m \u001b[0;34m\u001b[0m\u001b[0m\n\u001b[0;32m--> 410\u001b[0;31m         raise AttributeError(\"module {!r} has no attribute \"\n\u001b[0m\u001b[1;32m    411\u001b[0m                              \"{!r}\".format(__name__, attr))\n\u001b[1;32m    412\u001b[0m \u001b[0;34m\u001b[0m\u001b[0m\n",
            "\u001b[0;31mAttributeError\u001b[0m: module 'numpy' has no attribute 'isscaler'"
          ]
        }
      ]
    },
    {
      "cell_type": "code",
      "source": [
        "#9:Test Element-Wise Tolerance Equality\n",
        "import numpy as np\n",
        "\n",
        "a = np.array([0.3, 0.1 + 0.1 + 0.1])\n",
        "b = np.array([0.3, 0.3])\n",
        "\n",
        "print(np.isclose(a, b))\n",
        "print(np.allclose(a, b))\n",
        "\n",
        "# np.isclose(a, b, rtol, atol, equal_nan) → تحقق عنصر بعنصر.\n",
        "\n",
        "#np.allclose(a, b, rtol, atol, equal_nan) → تحقق شامل على المصفوفتين.\n",
        "\n",
        "#يُستخدمان على نطاق واسع في الحسابات العلمية للتحقق من التقريب العدد\n"
      ],
      "metadata": {
        "colab": {
          "base_uri": "https://localhost:8080/"
        },
        "id": "IfmAjM-iXMqQ",
        "outputId": "56e61f08-b9db-4d35-8b4b-c3e983d9f051"
      },
      "execution_count": null,
      "outputs": [
        {
          "output_type": "stream",
          "name": "stdout",
          "text": [
            "[ True  True]\n",
            "True\n"
          ]
        }
      ]
    },
    {
      "cell_type": "code",
      "source": [
        "#10:Element-Wise Comparison (Greater/Less)\n",
        "x = np.array([3, 5])\n",
        "y = np.array([2, 5])\n",
        "print(np.greater(x,y))\n",
        "print(np.greater_equal(x,y))\n",
        "print(np.less(x,y))\n",
        "print(np.less_equal(x,y))"
      ],
      "metadata": {
        "colab": {
          "base_uri": "https://localhost:8080/"
        },
        "id": "oVuWjwhmXxzW",
        "outputId": "fb83237e-ad98-4be5-9c4b-97914b4055ae"
      },
      "execution_count": null,
      "outputs": [
        {
          "output_type": "stream",
          "name": "stdout",
          "text": [
            "[ True False]\n",
            "[ True  True]\n",
            "[False False]\n",
            "[False  True]\n"
          ]
        }
      ]
    },
    {
      "cell_type": "code",
      "source": [
        "#11:Element-Wise Comparison (Equal/Tolerance)\n",
        "x = np.array([3, 5])\n",
        "y = np.array([2, 5])\n",
        "print(np.equal(x,y))\n",
        "print(np.allclose(x,y))"
      ],
      "metadata": {
        "colab": {
          "base_uri": "https://localhost:8080/"
        },
        "id": "rAqwEIwSYrLE",
        "outputId": "046de5ca-3d0b-4c80-fa10-1fc15627d36f"
      },
      "execution_count": null,
      "outputs": [
        {
          "output_type": "stream",
          "name": "stdout",
          "text": [
            "[False  True]\n",
            "False\n"
          ]
        }
      ]
    },
    {
      "cell_type": "code",
      "source": [
        "#12:Array Memory Size\n",
        "arr1=np.array([1,7,13,105])\n",
        "print(str(arr1.dtype))\n"
      ],
      "metadata": {
        "colab": {
          "base_uri": "https://localhost:8080/"
        },
        "id": "1k_9OaW8ZLHP",
        "outputId": "fde01bc8-2b7b-4ca2-cb38-b331a417db74"
      },
      "execution_count": null,
      "outputs": [
        {
          "output_type": "stream",
          "name": "stdout",
          "text": [
            "int64\n"
          ]
        }
      ]
    },
    {
      "cell_type": "code",
      "source": [
        "#13:Create Array of Zeros, Ones, Fives\n",
        " #(zeros , ones)\n",
        "print(np.zeros(10))\n",
        "print(np.ones(10))\n",
        "print(np.ones(10)*5)"
      ],
      "metadata": {
        "colab": {
          "base_uri": "https://localhost:8080/"
        },
        "id": "HjfKbRo-Zn8l",
        "outputId": "e8f3d1f4-d673-4fbe-e187-3ca8217c8834"
      },
      "execution_count": null,
      "outputs": [
        {
          "output_type": "stream",
          "name": "stdout",
          "text": [
            "[0. 0. 0. 0. 0. 0. 0. 0. 0. 0.]\n",
            "[1. 1. 1. 1. 1. 1. 1. 1. 1. 1.]\n",
            "[5. 5. 5. 5. 5. 5. 5. 5. 5. 5.]\n"
          ]
        }
      ]
    },
    {
      "cell_type": "code",
      "source": [
        "#14:Create Array of Integers 30 to 70\n",
        "arr1=np.arange(30,71)\n",
        "arr1"
      ],
      "metadata": {
        "colab": {
          "base_uri": "https://localhost:8080/"
        },
        "id": "0irm97CKa_aJ",
        "outputId": "5d877bd3-cba3-42b1-9375-0974c00dd7a3"
      },
      "execution_count": null,
      "outputs": [
        {
          "output_type": "execute_result",
          "data": {
            "text/plain": [
              "array([30, 31, 32, 33, 34, 35, 36, 37, 38, 39, 40, 41, 42, 43, 44, 45, 46,\n",
              "       47, 48, 49, 50, 51, 52, 53, 54, 55, 56, 57, 58, 59, 60, 61, 62, 63,\n",
              "       64, 65, 66, 67, 68, 69, 70])"
            ]
          },
          "metadata": {},
          "execution_count": 87
        }
      ]
    },
    {
      "cell_type": "code",
      "source": [
        "#15:Create Array of Even Integers 30 to 70\n",
        "#interval of values.........(np.arange)\n",
        "arr1=np.arange(30,71,2)\n",
        "arr1"
      ],
      "metadata": {
        "colab": {
          "base_uri": "https://localhost:8080/"
        },
        "id": "HelTu5cmcpRO",
        "outputId": "fad55c84-e5fe-4df7-ccfd-de9e544585f6"
      },
      "execution_count": null,
      "outputs": [
        {
          "output_type": "execute_result",
          "data": {
            "text/plain": [
              "array([30, 32, 34, 36, 38, 40, 42, 44, 46, 48, 50, 52, 54, 56, 58, 60, 62,\n",
              "       64, 66, 68, 70])"
            ]
          },
          "metadata": {},
          "execution_count": 86
        }
      ]
    },
    {
      "cell_type": "code",
      "source": [
        "#16:Create 3x3 Identity Matrix\n",
        "#i matrix\n",
        "arr=np.eye(3,3)\n",
        "arr"
      ],
      "metadata": {
        "colab": {
          "base_uri": "https://localhost:8080/"
        },
        "id": "X5krhBk9d8S4",
        "outputId": "7b382891-771b-4cf2-f906-f38859ddf0f2"
      },
      "execution_count": null,
      "outputs": [
        {
          "output_type": "execute_result",
          "data": {
            "text/plain": [
              "array([[1., 0., 0.],\n",
              "       [0., 1., 0.],\n",
              "       [0., 0., 1.]])"
            ]
          },
          "metadata": {},
          "execution_count": 85
        }
      ]
    },
    {
      "cell_type": "code",
      "source": [
        "#17: Generate Random Number [0,1]\n",
        "# random from normal dis...........random.normal(  ,  ,  )\n",
        "arr=np.random.normal(0,1,1)\n",
        "arr"
      ],
      "metadata": {
        "colab": {
          "base_uri": "https://localhost:8080/"
        },
        "id": "Ftuht0-XeMko",
        "outputId": "c2e0c020-d6da-4c8f-c59f-63011a606cf7"
      },
      "execution_count": null,
      "outputs": [
        {
          "output_type": "execute_result",
          "data": {
            "text/plain": [
              "array([0.12078902])"
            ]
          },
          "metadata": {},
          "execution_count": 84
        }
      ]
    },
    {
      "cell_type": "code",
      "source": [
        "#18:Generate Random Array from Standard Normal\n",
        "# random from normal dis\n",
        "np.random.normal(0,1,15)"
      ],
      "metadata": {
        "colab": {
          "base_uri": "https://localhost:8080/"
        },
        "id": "VrMCvMkymMnk",
        "outputId": "e8a540ba-68fc-44ac-c0f3-17a29735c368"
      },
      "execution_count": null,
      "outputs": [
        {
          "output_type": "execute_result",
          "data": {
            "text/plain": [
              "array([ 8.43186350e-01, -1.25834090e+00,  1.61404239e-01, -1.09507544e-03,\n",
              "        8.31746247e-01,  2.58159135e+00,  3.68174209e-01,  1.00211321e+00,\n",
              "        1.26629457e+00,  7.00125243e-01, -2.46131844e+00, -6.64803122e-01,\n",
              "        1.07492731e+00, -1.67118356e+00,  4.95868947e-02])"
            ]
          },
          "metadata": {},
          "execution_count": 83
        }
      ]
    },
    {
      "cell_type": "code",
      "source": [
        "#19:Vector 15-55 Without First/Last Values\n",
        "#vector without first and last values\n",
        "a= np.arange(15, 55)\n",
        "print(a[1:-1])"
      ],
      "metadata": {
        "colab": {
          "base_uri": "https://localhost:8080/"
        },
        "id": "MHwE0BmMmbFc",
        "outputId": "66cc1a22-9b28-4bc9-c9d7-dcc8bc7b310f"
      },
      "execution_count": null,
      "outputs": [
        {
          "output_type": "stream",
          "name": "stdout",
          "text": [
            "[16 17 18 19 20 21 22 23 24 25 26 27 28 29 30 31 32 33 34 35 36 37 38 39\n",
            " 40 41 42 43 44 45 46 47 48 49 50 51 52 53]\n"
          ]
        }
      ]
    },
    {
      "cell_type": "code",
      "source": [
        "#20:Create and Iterate 3x4 Array\n",
        "# matrix , shape\n",
        "np.arange(10,22).reshape((3,4))"
      ],
      "metadata": {
        "colab": {
          "base_uri": "https://localhost:8080/"
        },
        "id": "7RZp6UWMn0W9",
        "outputId": "c2581b12-7a6d-421c-a7d6-8ff3ef43a110"
      },
      "execution_count": null,
      "outputs": [
        {
          "output_type": "execute_result",
          "data": {
            "text/plain": [
              "array([[10, 11, 12, 13],\n",
              "       [14, 15, 16, 17],\n",
              "       [18, 19, 20, 21]])"
            ]
          },
          "metadata": {},
          "execution_count": 7
        }
      ]
    },
    {
      "cell_type": "code",
      "source": [
        "#21:Create Vector of Evenly Spaced Values\n",
        "#func(np.linspace)........make vector\n",
        "\n",
        "vector = np.linspace(5, 50, 10)\n",
        "print(\"Evenly spaced vector:\", vector)\n",
        "# إحنا بنستخدم linspace من مكتبة NumPy علشان نعمل متجه (vector) فيه قيم متساوية في التوزيع (يعني الفرق بين كل رقم والتاني ثابت).\n",
        "\n"
      ],
      "metadata": {
        "id": "VvNYayo5pRHG",
        "colab": {
          "base_uri": "https://localhost:8080/"
        },
        "outputId": "914b224c-0bb0-452a-a2ec-bb5d42297697"
      },
      "execution_count": null,
      "outputs": [
        {
          "output_type": "stream",
          "name": "stdout",
          "text": [
            "Evenly spaced vector: [ 5. 10. 15. 20. 25. 30. 35. 40. 45. 50.]\n"
          ]
        }
      ]
    },
    {
      "cell_type": "code",
      "source": [
        "#22:Change Sign of Range 9-15\n",
        "#vector and change the sign from 98 to 15\n",
        "                                           # إنشاء المتجه من 0 إلى 20\n",
        "vector = np.arange(0, 21)\n",
        "                                          # تغيير الإشارة للأرقام بين 9 و15\n",
        "vector[(vector >= 9) & (vector <= 15)] *= -1\n",
        "print(\"Modified vector:\", vector)\n"
      ],
      "metadata": {
        "colab": {
          "base_uri": "https://localhost:8080/"
        },
        "id": "mYhS5vUiWv7S",
        "outputId": "3ca6db3a-1181-49ac-bebf-97d16804d314"
      },
      "execution_count": null,
      "outputs": [
        {
          "output_type": "stream",
          "name": "stdout",
          "text": [
            "Modified vector: [  0   1   2   3   4   5   6   7   8  -9 -10 -11 -12 -13 -14 -15  16  17\n",
            "  18  19  20]\n"
          ]
        }
      ]
    },
    {
      "cell_type": "code",
      "source": [
        "#23:Vector of Random Integers [0,10]\n",
        "# vector \"values int\" from random\n",
        "vector=np.random.randint(0,11,5)\n",
        "vector"
      ],
      "metadata": {
        "colab": {
          "base_uri": "https://localhost:8080/"
        },
        "id": "IZkzyv7NWaBf",
        "outputId": "af9c9948-cf9d-4c27-8bb8-f9902ac356c0"
      },
      "execution_count": null,
      "outputs": [
        {
          "output_type": "execute_result",
          "data": {
            "text/plain": [
              "array([5, 2, 6, 4, 2])"
            ]
          },
          "metadata": {},
          "execution_count": 6
        }
      ]
    },
    {
      "cell_type": "code",
      "source": [
        "#24:* sum of two vectors\n",
        "\n",
        "vector1 = np.array([1, 2, 3, 4, 5])\n",
        "vector2 = np.array([10, 20, 30, 40, 50])\n",
        "result = vector1 * vector2\n",
        "print(\"Result of multiplication:\", result)\n"
      ],
      "metadata": {
        "colab": {
          "base_uri": "https://localhost:8080/"
        },
        "id": "pFL7MKatYv-6",
        "outputId": "941e861e-c427-4d43-8501-18b6875571b0"
      },
      "execution_count": null,
      "outputs": [
        {
          "output_type": "stream",
          "name": "stdout",
          "text": [
            "Result of multiplication: [ 10  40  90 160 250]\n"
          ]
        }
      ]
    },
    {
      "cell_type": "code",
      "source": [
        "#25:matrix of interval and its shape of it\n",
        "\n",
        "\n",
        "matrix= np.arange(10, 22).reshape((3, 4))\n",
        "print(matrix)\n"
      ],
      "metadata": {
        "colab": {
          "base_uri": "https://localhost:8080/"
        },
        "id": "4gxFoJPOa2sm",
        "outputId": "1c20a80e-7b3a-4638-83f5-085b27ddeb22"
      },
      "execution_count": null,
      "outputs": [
        {
          "output_type": "stream",
          "name": "stdout",
          "text": [
            "[[10 11 12 13]\n",
            " [14 15 16 17]\n",
            " [18 19 20 21]]\n"
          ]
        }
      ]
    },
    {
      "cell_type": "code",
      "source": [
        "#26: matrix and its size of it\n",
        "\n",
        "matrix= np.arange(10, 22).reshape((3, 4))\n",
        "print(matrix.shape)\n"
      ],
      "metadata": {
        "colab": {
          "base_uri": "https://localhost:8080/"
        },
        "id": "BsBqN4EQbjPZ",
        "outputId": "5a37315f-c4b3-4018-bce7-87a37e168d22"
      },
      "execution_count": null,
      "outputs": [
        {
          "output_type": "stream",
          "name": "stdout",
          "text": [
            "(3, 4)\n"
          ]
        }
      ]
    },
    {
      "cell_type": "code",
      "source": [
        "#27: matix(identity)\n",
        "i=np.eye(3,3)\n",
        "i"
      ],
      "metadata": {
        "colab": {
          "base_uri": "https://localhost:8080/"
        },
        "id": "Fpl9pQgcb8_E",
        "outputId": "5fbce82c-0eb4-424a-da0b-791ad4d4b8a1"
      },
      "execution_count": null,
      "outputs": [
        {
          "output_type": "execute_result",
          "data": {
            "text/plain": [
              "array([[1., 0., 0.],\n",
              "       [0., 1., 0.],\n",
              "       [0., 0., 1.]])"
            ]
          },
          "metadata": {},
          "execution_count": 11
        }
      ]
    },
    {
      "cell_type": "code",
      "source": [
        "#28:10x10 Matrix Border 1, Inside 0\n",
        "\n",
        "\n",
        "\n",
        "# إنشاء مصفوفة 10x10 كلها أصفار\n",
        "matrix = np.zeros((10, 10), dtype=int)\n",
        "# جعل الحواف تساوي 1\n",
        "matrix[0, :] = 1         # الصف الأول\n",
        "matrix[-1, :] = 1        # الصف الأخير\n",
        "matrix[:, 0] = 1         # العمود الأول\n",
        "matrix[:, -1] = 1        # العمود الأخير\n",
        "\n",
        "print(matrix)\n"
      ],
      "metadata": {
        "colab": {
          "base_uri": "https://localhost:8080/"
        },
        "id": "wjyMTbHfcWfv",
        "outputId": "8fc1ccc2-1e07-4c93-91ed-05d4b0c9138a"
      },
      "execution_count": null,
      "outputs": [
        {
          "output_type": "stream",
          "name": "stdout",
          "text": [
            "[[1 1 1 1 1 1 1 1 1 1]\n",
            " [1 0 0 0 0 0 0 0 0 1]\n",
            " [1 0 0 0 0 0 0 0 0 1]\n",
            " [1 0 0 0 0 0 0 0 0 1]\n",
            " [1 0 0 0 0 0 0 0 0 1]\n",
            " [1 0 0 0 0 0 0 0 0 1]\n",
            " [1 0 0 0 0 0 0 0 0 1]\n",
            " [1 0 0 0 0 0 0 0 0 1]\n",
            " [1 0 0 0 0 0 0 0 0 1]\n",
            " [1 1 1 1 1 1 1 1 1 1]]\n"
          ]
        }
      ]
    },
    {
      "cell_type": "code",
      "source": [
        "#29:Diagonal 5x5 Matrix (1-5)\n",
        "#diagonal if = a specific numbers  ......(np. diag)\n",
        "x=np.diag([1,2,3,4,5])\n",
        "x"
      ],
      "metadata": {
        "colab": {
          "base_uri": "https://localhost:8080/"
        },
        "id": "oLePNT4wcOUP",
        "outputId": "2ba04314-9bce-42c2-8484-88ecaf906cd6"
      },
      "execution_count": null,
      "outputs": [
        {
          "output_type": "execute_result",
          "data": {
            "text/plain": [
              "array([[1, 0, 0, 0, 0],\n",
              "       [0, 2, 0, 0, 0],\n",
              "       [0, 0, 3, 0, 0],\n",
              "       [0, 0, 0, 4, 0],\n",
              "       [0, 0, 0, 0, 5]])"
            ]
          },
          "metadata": {},
          "execution_count": 13
        }
      ]
    },
    {
      "cell_type": "code",
      "source": [
        "#30: Staggered 4x4 Matrix (0,1)\n",
        "# Importing the NumPy library with an alias 'np'\n",
        "import numpy as np\n",
        "\n",
        "# Creating a 4x4 matrix filled with zeros using np.zeros()\n",
        "x = np.zeros((4, 4))\n",
        "\n",
        "# Setting elements in alternate rows and columns to 1\n",
        "# Setting elements in even rows (0-based indexing) and odd columns to 1\n",
        "x[::2, 1::2] = 1\n",
        "\n",
        "# Setting elements in odd rows and even columns to 1\n",
        "x[1::2, ::2] = 1\n",
        "\n",
        "# Printing the modified matrix 'x'\n",
        "print(x)\n",
        "\n"
      ],
      "metadata": {
        "id": "Prke4KnzdxHQ",
        "outputId": "437f45de-8a77-47e8-f38a-df8f4d229e97",
        "colab": {
          "base_uri": "https://localhost:8080/"
        }
      },
      "execution_count": null,
      "outputs": [
        {
          "output_type": "stream",
          "name": "stdout",
          "text": [
            "[[0. 1. 0. 1.]\n",
            " [1. 0. 1. 0.]\n",
            " [0. 1. 0. 1.]\n",
            " [1. 0. 1. 0.]]\n"
          ]
        }
      ]
    },
    {
      "cell_type": "code",
      "source": [
        "#31:Create 3x3x3 Array of Values\n",
        "#random\n",
        "x=np.random.rand(3,3,3)\n",
        "x"
      ],
      "metadata": {
        "colab": {
          "base_uri": "https://localhost:8080/"
        },
        "id": "BQNS7zO5e02K",
        "outputId": "1403b9c7-ec11-4b33-ac40-0f4f58b125d2"
      },
      "execution_count": null,
      "outputs": [
        {
          "output_type": "execute_result",
          "data": {
            "text/plain": [
              "array([[[0.94870888, 0.98250546, 0.31451149],\n",
              "        [0.94381028, 0.44134172, 0.64129207],\n",
              "        [0.19646981, 0.90972341, 0.08236172]],\n",
              "\n",
              "       [[0.98865334, 0.95030425, 0.30426867],\n",
              "        [0.4428553 , 0.17011679, 0.22035727],\n",
              "        [0.15329942, 0.31840272, 0.25392941]],\n",
              "\n",
              "       [[0.911774  , 0.62071971, 0.46595874],\n",
              "        [0.60163123, 0.64032264, 0.2567579 ],\n",
              "        [0.5829934 , 0.9426504 , 0.37998866]]])"
            ]
          },
          "metadata": {},
          "execution_count": 16
        }
      ]
    },
    {
      "cell_type": "code",
      "source": [
        "#32:Compute Sums (All, Row, Column)\n",
        "# sum\n",
        "x=np.array([[1,2,3,4],[5,6,7,8]])\n",
        "print(np.sum(x))\n",
        "print(np.sum(x , axis=0))\n",
        "print(np.sum(x , axis=1))"
      ],
      "metadata": {
        "colab": {
          "base_uri": "https://localhost:8080/"
        },
        "id": "KVafB-bTfKDq",
        "outputId": "230d49a3-808b-446d-9e4c-e8678239bc30"
      },
      "execution_count": null,
      "outputs": [
        {
          "output_type": "stream",
          "name": "stdout",
          "text": [
            "36\n",
            "[ 6  8 10 12]\n",
            "[10 26]\n"
          ]
        }
      ]
    },
    {
      "cell_type": "code",
      "source": [
        "#33: Compute Inner Product of Vectors\n",
        "#np.inner\n",
        "# لحساب الناتج الداخلي (inner product) بين متجهين (vectors) باستخدام NumPy، نستخدم:\n",
        "\n",
        "vector1 = np.array([1, 2, 3])\n",
        "vector2 = np.array([4, 5, 6])\n",
        "# حساب الناتج الداخلي (inner product)\n",
        "result = np.inner(vector1, vector2)\n",
        "print(\"Inner product:\", result)\n",
        "#  (1×4) + (2×5) + (3×6) = 4 + 10 + 18 = 32\n",
        "\n"
      ],
      "metadata": {
        "colab": {
          "base_uri": "https://localhost:8080/"
        },
        "id": "KHQop_YfgTKn",
        "outputId": "1d87d2b4-6e87-4163-fcfe-23c7013e6ca1"
      },
      "execution_count": null,
      "outputs": [
        {
          "output_type": "stream",
          "name": "stdout",
          "text": [
            "Inner product: 32\n"
          ]
        }
      ]
    },
    {
      "cell_type": "code",
      "source": [
        "#34:Add Vector to Matrix Rows\n",
        "#  add vector to matrix\n",
        "matrix = np.array([[10, 20, 30],\n",
        "                   [40, 50, 60],\n",
        "                   [70, 80, 90]])\n",
        "\n",
        "vector = np.array([1, 2, 3])\n",
        "result = matrix + vector\n",
        "\n",
        "print(\"Result:\\n\", result)\n"
      ],
      "metadata": {
        "colab": {
          "base_uri": "https://localhost:8080/"
        },
        "id": "_txWIGLagwvk",
        "outputId": "71f89c5b-ef54-4374-ebc4-df2e9ca5661a"
      },
      "execution_count": null,
      "outputs": [
        {
          "output_type": "stream",
          "name": "stdout",
          "text": [
            "Result:\n",
            " [[11 22 33]\n",
            " [41 52 63]\n",
            " [71 82 93]]\n"
          ]
        }
      ]
    },
    {
      "cell_type": "code",
      "source": [
        "#35:                save array as file\n",
        "array = np.array([[1, 2, 3], [4, 5, 6]])\n",
        "np.save('my_array.npy', array)\n",
        "\n"
      ],
      "metadata": {
        "id": "vj87PodfsZ5U"
      },
      "execution_count": null,
      "outputs": []
    },
    {
      "cell_type": "markdown",
      "source": [],
      "metadata": {
        "id": "FgYPPKybxWfR"
      }
    },
    {
      "cell_type": "code",
      "source": [
        "#36:                     save array as file and load it\n",
        "array = np.array([[1, 2, 3], [4, 5, 6]])\n",
        "np.save('my_array.npy', array)\n",
        "loaded_array = np.load('my_array.npy')\n",
        "print(loaded_array)"
      ],
      "metadata": {
        "colab": {
          "base_uri": "https://localhost:8080/"
        },
        "id": "XprT2VyKth0j",
        "outputId": "5890ecec-6318-4ea4-c811-b907c163ddde"
      },
      "execution_count": null,
      "outputs": [
        {
          "output_type": "stream",
          "name": "stdout",
          "text": [
            "[[1 2 3]\n",
            " [4 5 6]]\n"
          ]
        }
      ]
    },
    {
      "cell_type": "code",
      "source": [
        "#37:          save txt file\n",
        "arr = np.array([[1, 2], [3, 4]])\n",
        "np.savetxt(\"array.txt\", arr)\n",
        "loaded = np.loadtxt(\"array.txt\")\n",
        "print(loaded)\n"
      ],
      "metadata": {
        "colab": {
          "base_uri": "https://localhost:8080/"
        },
        "id": "e0LCydzbxS5I",
        "outputId": "da2af095-5d0a-49a7-848d-86ddf2cc302e"
      },
      "execution_count": null,
      "outputs": [
        {
          "output_type": "stream",
          "name": "stdout",
          "text": [
            "[[1. 2.]\n",
            " [3. 4.]]\n"
          ]
        }
      ]
    },
    {
      "cell_type": "code",
      "source": [
        "#38:    Convert Array to Bytes and Back\n",
        "import numpy as np\n",
        "arr = np.array([[1, 2], [3, 4]], dtype=np.int32)\n",
        "b = arr.tobytes()\n",
        "restored = np.frombuffer(b, dtype=np.int32).reshape(arr.shape)\n",
        "print(restored)\n"
      ],
      "metadata": {
        "colab": {
          "base_uri": "https://localhost:8080/"
        },
        "id": "RmW3pTvoyXmW",
        "outputId": "d06abcec-0bd2-4447-9f57-e452d107bc09"
      },
      "execution_count": null,
      "outputs": [
        {
          "output_type": "stream",
          "name": "stdout",
          "text": [
            "[[1 2]\n",
            " [3 4]]\n"
          ]
        }
      ]
    },
    {
      "cell_type": "code",
      "source": [
        "#39:    List to Array to List Comparison\n",
        "import numpy as np\n",
        "original_list = [1, 2, 3, 4, 5]\n",
        "\n",
        "array = np.array(original_list)\n",
        "final_list = array.tolist()\n",
        "\n",
        "are_equal = original_list == final_list\n",
        "\n",
        "print(\"Original list:\", original_list)\n",
        "print(\"Final list:\", final_list)\n",
        "print(\"Are both lists equal?\", are_equal)\n"
      ],
      "metadata": {
        "colab": {
          "base_uri": "https://localhost:8080/"
        },
        "id": "vB1rJZrUy0T-",
        "outputId": "1408c5ac-736a-4732-c8e1-f56a513cfeb0"
      },
      "execution_count": null,
      "outputs": [
        {
          "output_type": "stream",
          "name": "stdout",
          "text": [
            "Original list: [1, 2, 3, 4, 5]\n",
            "Final list: [1, 2, 3, 4, 5]\n",
            "Are both lists equal? True\n"
          ]
        }
      ]
    },
    {
      "cell_type": "code",
      "source": [
        "# 40 :Sine Curve Coordinates with Plot\n",
        "import numpy as np\n",
        "import matplotlib.pyplot as plt\n",
        "\n",
        "x = np.linspace(0, 2*np.pi, 100)\n",
        "y = np.sin(x)\n",
        "\n",
        "plt.plot(x, y)\n",
        "plt.show()\n"
      ],
      "metadata": {
        "colab": {
          "base_uri": "https://localhost:8080/",
          "height": 430
        },
        "id": "ND2QcY5C2PWR",
        "outputId": "8e22a0af-7ae9-426a-ffed-e75a4ee617a1"
      },
      "execution_count": null,
      "outputs": [
        {
          "output_type": "display_data",
          "data": {
            "text/plain": [
              "<Figure size 640x480 with 1 Axes>"
            ],
            "image/png": "[encoded data removed]"
          },
          "metadata": {}
        }
      ]
    },
    {
      "cell_type": "code",
      "source": [
        "#41:    Convert NumPy Dtypes to Python Types\n",
        "#  .item() → ترجع القيمة كنـوع Python عادي (int, float, bool,.........)\n",
        "\n",
        "import numpy as np\n",
        "\n",
        "x = np.int32(10)\n",
        "y = np.float64(3.14)\n",
        "\n",
        "# تحويل مباشر باستخدام .item()\n",
        "print(x.item())      # → 10 (int)\n",
        "print(y.item())      # → 3.14 (float)\n"
      ],
      "metadata": {
        "colab": {
          "base_uri": "https://localhost:8080/"
        },
        "id": "x0zrpGmm26xV",
        "outputId": "7a7871c4-5cb2-4b42-c356-a1c6a6c01245"
      },
      "execution_count": null,
      "outputs": [
        {
          "output_type": "stream",
          "name": "stdout",
          "text": [
            "10\n",
            "3.14\n"
          ]
        }
      ]
    },
    {
      "cell_type": "code",
      "source": [
        "#42: Add Elements Conditionally\n",
        "#  عايز تعمل برنامج بـ NumPy يضيف عناصر في مصفوفة (Matrix)، لكن بلو فيه عنصر = 0، ماتضيفش العنصر اللي تحته.\n",
        "import numpy as np\n",
        "\n",
        "matrix = np.array([\n",
        "    [1, 0, 3],\n",
        "    [4, 5, 6],\n",
        "    [7, 8, 0]\n",
        "])\n",
        "\n",
        "result = matrix.copy()\n",
        "\n",
        "mask = matrix[:-1] != 0\n",
        "\n",
        "result[:-1][mask] += matrix[1:][mask]\n",
        "print(\"Result:\")\n",
        "print(result)\n",
        "\n"
      ],
      "metadata": {
        "colab": {
          "base_uri": "https://localhost:8080/"
        },
        "id": "MVZlOSxb3pdz",
        "outputId": "0513bf3a-36ab-41f4-b7ec-4c80dda96564"
      },
      "execution_count": null,
      "outputs": [
        {
          "output_type": "stream",
          "name": "stdout",
          "text": [
            "Result:\n",
            "[[ 5  0  9]\n",
            " [11 13  6]\n",
            " [ 7  8  0]]\n"
          ]
        }
      ]
    },
    {
      "cell_type": "code",
      "source": [
        "#43:  missing values\n",
        "\n",
        "arr = np.array([1, 2, np.nan, 4, np.nan, 6])\n",
        "\n",
        "missing_mask = np.isnan(arr)\n",
        "\n",
        "print(\"Array:\")\n",
        "print(arr)\n",
        "\n",
        "print(\"\\nMissing Data Mask (True = missing):\")\n",
        "print(missing_mask)\n",
        "\n",
        "print(\"\\nIndexes of missing data:\")\n",
        "print(np.where(missing_mask)[0])\n"
      ],
      "metadata": {
        "colab": {
          "base_uri": "https://localhost:8080/"
        },
        "id": "RvPxxvZ9495C",
        "outputId": "02c60d69-b001-4653-e744-ccedb44b0c8b"
      },
      "execution_count": null,
      "outputs": [
        {
          "output_type": "stream",
          "name": "stdout",
          "text": [
            "Array:\n",
            "[ 1.  2. nan  4. nan  6.]\n",
            "\n",
            "Missing Data Mask (True = missing):\n",
            "[False False  True False  True False]\n",
            "\n",
            "Indexes of missing data:\n",
            "[2 4]\n"
          ]
        }
      ]
    },
    {
      "cell_type": "code",
      "source": [
        "#44:   compare Two Arrays (Element-Wise)\n",
        "\n",
        "# مصفوفتين\n",
        "arr1 = np.array([1, 2, 3, 4])\n",
        "arr2 = np.array([1, 0, 3, 4])\n",
        "\n",
        "# مقارنة عنصر بعنصر\n",
        "result = np.equal(arr1, arr2)  # أو arr1 == arr2\n",
        "\n",
        "print(\"Array 1:\", arr1)\n",
        "print(\"Array 2:\", arr2)\n",
        "\n",
        "print(\"\\nElement-wise Comparison (True = equal):\")\n",
        "print(result)\n"
      ],
      "metadata": {
        "colab": {
          "base_uri": "https://localhost:8080/"
        },
        "id": "N14ncSbw5r_n",
        "outputId": "6d82d245-60a8-412f-a975-890aab475a03"
      },
      "execution_count": null,
      "outputs": [
        {
          "output_type": "stream",
          "name": "stdout",
          "text": [
            "Array 1: [1 2 3 4]\n",
            "Array 2: [1 0 3 4]\n",
            "\n",
            "Element-wise Comparison (True = equal):\n",
            "[ True False  True  True]\n"
          ]
        }
      ]
    },
    {
      "cell_type": "code",
      "source": [
        "#45:    Create 1D Array of Digits\n",
        "# 1-digit numbers: 1 to 9\n",
        "one_digit = np.arange(1, 10)\n",
        "\n",
        "# 2-digit numbers: 10 to 99\n",
        "two_digit = np.arange(10, 100)\n",
        "\n",
        "# 3-digit numbers: 100 to 999\n",
        "three_digit = np.arange(100, 1000)\n",
        "\n",
        "# Combine all into one 1D array\n",
        "all_digits = np.concatenate((one_digit, two_digit, three_digit))\n",
        "\n",
        "print(\"1D Array of 1, 2, and 3-digit numbers:\")\n",
        "print(all_digits)\n"
      ],
      "metadata": {
        "colab": {
          "base_uri": "https://localhost:8080/"
        },
        "id": "jx6XIVC650uS",
        "outputId": "82620c87-343e-413b-b86f-0cc0da0fbf0c"
      },
      "execution_count": null,
      "outputs": [
        {
          "output_type": "stream",
          "name": "stdout",
          "text": [
            "1D Array of 1, 2, and 3-digit numbers:\n",
            "[  1   2   3   4   5   6   7   8   9  10  11  12  13  14  15  16  17  18\n",
            "  19  20  21  22  23  24  25  26  27  28  29  30  31  32  33  34  35  36\n",
            "  37  38  39  40  41  42  43  44  45  46  47  48  49  50  51  52  53  54\n",
            "  55  56  57  58  59  60  61  62  63  64  65  66  67  68  69  70  71  72\n",
            "  73  74  75  76  77  78  79  80  81  82  83  84  85  86  87  88  89  90\n",
            "  91  92  93  94  95  96  97  98  99 100 101 102 103 104 105 106 107 108\n",
            " 109 110 111 112 113 114 115 116 117 118 119 120 121 122 123 124 125 126\n",
            " 127 128 129 130 131 132 133 134 135 136 137 138 139 140 141 142 143 144\n",
            " 145 146 147 148 149 150 151 152 153 154 155 156 157 158 159 160 161 162\n",
            " 163 164 165 166 167 168 169 170 171 172 173 174 175 176 177 178 179 180\n",
            " 181 182 183 184 185 186 187 188 189 190 191 192 193 194 195 196 197 198\n",
            " 199 200 201 202 203 204 205 206 207 208 209 210 211 212 213 214 215 216\n",
            " 217 218 219 220 221 222 223 224 225 226 227 228 229 230 231 232 233 234\n",
            " 235 236 237 238 239 240 241 242 243 244 245 246 247 248 249 250 251 252\n",
            " 253 254 255 256 257 258 259 260 261 262 263 264 265 266 267 268 269 270\n",
            " 271 272 273 274 275 276 277 278 279 280 281 282 283 284 285 286 287 288\n",
            " 289 290 291 292 293 294 295 296 297 298 299 300 301 302 303 304 305 306\n",
            " 307 308 309 310 311 312 313 314 315 316 317 318 319 320 321 322 323 324\n",
            " 325 326 327 328 329 330 331 332 333 334 335 336 337 338 339 340 341 342\n",
            " 343 344 345 346 347 348 349 350 351 352 353 354 355 356 357 358 359 360\n",
            " 361 362 363 364 365 366 367 368 369 370 371 372 373 374 375 376 377 378\n",
            " 379 380 381 382 383 384 385 386 387 388 389 390 391 392 393 394 395 396\n",
            " 397 398 399 400 401 402 403 404 405 406 407 408 409 410 411 412 413 414\n",
            " 415 416 417 418 419 420 421 422 423 424 425 426 427 428 429 430 431 432\n",
            " 433 434 435 436 437 438 439 440 441 442 443 444 445 446 447 448 449 450\n",
            " 451 452 453 454 455 456 457 458 459 460 461 462 463 464 465 466 467 468\n",
            " 469 470 471 472 473 474 475 476 477 478 479 480 481 482 483 484 485 486\n",
            " 487 488 489 490 491 492 493 494 495 496 497 498 499 500 501 502 503 504\n",
            " 505 506 507 508 509 510 511 512 513 514 515 516 517 518 519 520 521 522\n",
            " 523 524 525 526 527 528 529 530 531 532 533 534 535 536 537 538 539 540\n",
            " 541 542 543 544 545 546 547 548 549 550 551 552 553 554 555 556 557 558\n",
            " 559 560 561 562 563 564 565 566 567 568 569 570 571 572 573 574 575 576\n",
            " 577 578 579 580 581 582 583 584 585 586 587 588 589 590 591 592 593 594\n",
            " 595 596 597 598 599 600 601 602 603 604 605 606 607 608 609 610 611 612\n",
            " 613 614 615 616 617 618 619 620 621 622 623 624 625 626 627 628 629 630\n",
            " 631 632 633 634 635 636 637 638 639 640 641 642 643 644 645 646 647 648\n",
            " 649 650 651 652 653 654 655 656 657 658 659 660 661 662 663 664 665 666\n",
            " 667 668 669 670 671 672 673 674 675 676 677 678 679 680 681 682 683 684\n",
            " 685 686 687 688 689 690 691 692 693 694 695 696 697 698 699 700 701 702\n",
            " 703 704 705 706 707 708 709 710 711 712 713 714 715 716 717 718 719 720\n",
            " 721 722 723 724 725 726 727 728 729 730 731 732 733 734 735 736 737 738\n",
            " 739 740 741 742 743 744 745 746 747 748 749 750 751 752 753 754 755 756\n",
            " 757 758 759 760 761 762 763 764 765 766 767 768 769 770 771 772 773 774\n",
            " 775 776 777 778 779 780 781 782 783 784 785 786 787 788 789 790 791 792\n",
            " 793 794 795 796 797 798 799 800 801 802 803 804 805 806 807 808 809 810\n",
            " 811 812 813 814 815 816 817 818 819 820 821 822 823 824 825 826 827 828\n",
            " 829 830 831 832 833 834 835 836 837 838 839 840 841 842 843 844 845 846\n",
            " 847 848 849 850 851 852 853 854 855 856 857 858 859 860 861 862 863 864\n",
            " 865 866 867 868 869 870 871 872 873 874 875 876 877 878 879 880 881 882\n",
            " 883 884 885 886 887 888 889 890 891 892 893 894 895 896 897 898 899 900\n",
            " 901 902 903 904 905 906 907 908 909 910 911 912 913 914 915 916 917 918\n",
            " 919 920 921 922 923 924 925 926 927 928 929 930 931 932 933 934 935 936\n",
            " 937 938 939 940 941 942 943 944 945 946 947 948 949 950 951 952 953 954\n",
            " 955 956 957 958 959 960 961 962 963 964 965 966 967 968 969 970 971 972\n",
            " 973 974 975 976 977 978 979 980 981 982 983 984 985 986 987 988 989 990\n",
            " 991 992 993 994 995 996 997 998 999]\n"
          ]
        }
      ]
    },
    {
      "cell_type": "code",
      "source": [
        "#46:  Create 2D Array of Specified Format\n",
        "arr = np.arange(1, 10).reshape(3, 3)\n",
        "print(\"3x3 array with values from 1 to 9:\")\n",
        "print(arr)\n"
      ],
      "metadata": {
        "colab": {
          "base_uri": "https://localhost:8080/"
        },
        "id": "WJRVghD06LH2",
        "outputId": "c8936fe4-d82c-4812-d1de-31bffc323044"
      },
      "execution_count": null,
      "outputs": [
        {
          "output_type": "stream",
          "name": "stdout",
          "text": [
            "3x3 array with values from 1 to 9:\n",
            "[[1 2 3]\n",
            " [4 5 6]\n",
            " [7 8 9]]\n"
          ]
        }
      ]
    },
    {
      "cell_type": "code",
      "source": [
        "# 47: Create Array of Random Uniform [0,1]\n",
        "\n",
        "# إنشاء مصفوفة 1D فيها 40 رقم عشوائي من توزيع منتظم بين 0 و 1\n",
        "arr = np.random.uniform(0, 1, 40)\n",
        "\n",
        "print(\"1D array of 40 random numbers (Uniform [0,1]):\")\n",
        "print(arr)\n"
      ],
      "metadata": {
        "colab": {
          "base_uri": "https://localhost:8080/"
        },
        "id": "1V1zYIPa7Jhv",
        "outputId": "59394fa1-07fd-4f54-b7f6-7aa24c84ce71"
      },
      "execution_count": null,
      "outputs": [
        {
          "output_type": "stream",
          "name": "stdout",
          "text": [
            "1D array of 40 random numbers (Uniform [0,1]):\n",
            "[0.31060533 0.07469062 0.26199685 0.82849409 0.46183361 0.6449694\n",
            " 0.33768798 0.27259504 0.7932421  0.4019626  0.79797746 0.68213849\n",
            " 0.22355856 0.99861689 0.17185853 0.09866295 0.24396821 0.81074026\n",
            " 0.88774304 0.59810446 0.26161045 0.5412696  0.63721112 0.00445829\n",
            " 0.27651314 0.01222006 0.72757617 0.48497605 0.78514927 0.2899144\n",
            " 0.23854101 0.10886323 0.2202232  0.29384775 0.410286   0.98598141\n",
            " 0.98177431 0.51414998 0.80250859 0.64492839]\n"
          ]
        }
      ]
    },
    {
      "cell_type": "code",
      "source": [
        "# 48:Random Normal Distribution 2D Array\n",
        "# إنشاء مصفوفة 8x5 من توزيع طبيعي (mean=200, std=7)\n",
        "arr = np.random.normal(loc=200, scale=7, size=(8, 5))\n",
        "\n",
        "print(\"2D Array (8x5) from Normal Distribution (mean=200, std=7):\")\n",
        "print(arr)\n"
      ],
      "metadata": {
        "colab": {
          "base_uri": "https://localhost:8080/"
        },
        "id": "RP-AEE9z7ZRP",
        "outputId": "63d713ff-fd2c-47c5-8959-c570bdd782d2"
      },
      "execution_count": null,
      "outputs": [
        {
          "output_type": "stream",
          "name": "stdout",
          "text": [
            "2D Array (8x5) from Normal Distribution (mean=200, std=7):\n",
            "[[201.07341833 207.17091791 199.56177709 206.07540262 198.22868981]\n",
            " [195.49822452 205.32954771 193.33429878 199.34728263 195.7942301 ]\n",
            " [217.69938024 206.55488847 189.34593394 187.35890314 188.06197872]\n",
            " [206.21835302 206.6400946  206.03473332 198.42765597 203.64338718]\n",
            " [196.58480809 203.06510763 186.88433942 207.58336618 204.03163454]\n",
            " [205.70616431 190.55266256 202.16197239 192.66375163 201.71973357]\n",
            " [190.56768798 202.4023481  190.48950675 195.07484545 203.09920077]\n",
            " [193.07526307 202.33956856 197.04340124 203.15104596 192.66805263]]\n"
          ]
        }
      ]
    },
    {
      "cell_type": "code",
      "source": [
        "# 49:Random Sampling with/without Replacement\n",
        "import numpy as np\n",
        "arr = np.array([10, 20, 30, 40, 50])\n",
        "sample_with = np.random.choice(arr, size=5, replace=True)\n",
        "sample_without = np.random.choice(arr, size=5, replace=False)\n",
        "probabilities = [0.4, 0.3, 0.1, 0.1, 0.1]\n",
        "non_uniform_sample = np.random.choice(arr, size=5, replace=True, p=probabilities)\n",
        "\n",
        "print(\"Original Array:\")\n",
        "print(arr)\n",
        "\n",
        "print(\"\\nUniform Sample WITH Replacement:\")\n",
        "print(sample_with)\n",
        "\n",
        "print(\"\\nUniform Sample WITHOUT Replacement:\")\n",
        "print(sample_without)\n",
        "\n",
        "print(\"\\nNon-uniform Sample WITH Replacement:\")\n",
        "print(non_uniform_sample)\n",
        "\n"
      ],
      "metadata": {
        "colab": {
          "base_uri": "https://localhost:8080/"
        },
        "id": "ngZV5XYU7sZx",
        "outputId": "df1dc2d4-14cb-44b7-8150-bb2841e115a6"
      },
      "execution_count": null,
      "outputs": [
        {
          "output_type": "stream",
          "name": "stdout",
          "text": [
            "Original Array:\n",
            "[10 20 30 40 50]\n",
            "\n",
            "Uniform Sample WITH Replacement:\n",
            "[50 50 30 20 30]\n",
            "\n",
            "Uniform Sample WITHOUT Replacement:\n",
            "[20 10 30 40 50]\n",
            "\n",
            "Non-uniform Sample WITH Replacement:\n",
            "[50 50 10 40 30]\n"
          ]
        }
      ]
    },
    {
      "cell_type": "code",
      "source": [
        "# 50:Swap Rows in 4x4 Random Array\n",
        "import numpy as np\n",
        "\n",
        "arr = np.random.rand(4, 4)\n",
        "swapped = arr.copy()\n",
        "swapped[[0, -1]] = swapped[[-1, 0]]\n",
        "print(\"Original 4x4 Array:\")\n",
        "print(arr)\n",
        "\n",
        "print(\"\\nArray after swapping first and last rows:\")\n",
        "print(swapped)\n"
      ],
      "metadata": {
        "colab": {
          "base_uri": "https://localhost:8080/"
        },
        "id": "JRTxRb-v7-VT",
        "outputId": "12d2f851-1462-4056-bbae-2ed7d86b64ef"
      },
      "execution_count": null,
      "outputs": [
        {
          "output_type": "stream",
          "name": "stdout",
          "text": [
            "Original 4x4 Array:\n",
            "[[0.12212804 0.77266836 0.26904314 0.68015194]\n",
            " [0.80264279 0.44243729 0.92246359 0.87612114]\n",
            " [0.14433771 0.67586123 0.31001972 0.56581167]\n",
            " [0.83939738 0.11246938 0.09535251 0.10609933]]\n",
            "\n",
            "Array after swapping first and last rows:\n",
            "[[0.83939738 0.11246938 0.09535251 0.10609933]\n",
            " [0.80264279 0.44243729 0.92246359 0.87612114]\n",
            " [0.14433771 0.67586123 0.31001972 0.56581167]\n",
            " [0.12212804 0.77266836 0.26904314 0.68015194]]\n"
          ]
        }
      ]
    }
  ]
}